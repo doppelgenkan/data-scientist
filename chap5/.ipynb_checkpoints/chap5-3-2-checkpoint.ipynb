{
 "cells": [
  {
   "cell_type": "markdown",
   "metadata": {},
   "source": [
    "***\n",
    "### 5-3-2. 特異値分解"
   ]
  },
  {
   "cell_type": "code",
   "execution_count": 1,
   "metadata": {},
   "outputs": [],
   "source": [
    "import numpy as np\n",
    "import scipy as sp\n",
    "from scipy import interpolate"
   ]
  },
  {
   "cell_type": "markdown",
   "metadata": {},
   "source": [
    "> ※注意） sp.linalgモジュールを使うためには，なぜかinterpolateモジュールをインポートしなければならない。むしろ，教科書とはことなり，sp.linalgモジュールの代わりにnp.linalgモジュールを使う方が良いかもしれない。しかし，ここでは教科書に合わせる。"
   ]
  },
  {
   "cell_type": "markdown",
   "metadata": {},
   "source": [
    "#### 5-3-2-0. エルミート行列の固有値分解"
   ]
  },
  {
   "cell_type": "markdown",
   "metadata": {},
   "source": [
    "**▫︎ 5-3-2-0-1.** 0~50の配列からランダムに数を取り出し，エルミート行列`H`をつくる："
   ]
  },
  {
   "cell_type": "code",
   "execution_count": 2,
   "metadata": {},
   "outputs": [
    {
     "name": "stdout",
     "output_type": "stream",
     "text": [
      "H =\n",
      "[[28.  +0.j  35. +15.j  18.  +7.j  17. -10.5j]\n",
      " [35. -15.j  42.  +0.j  36.5 +6.j  11.  -0.5j]\n",
      " [18.  -7.j  36.5 -6.j   5.  +0.j  12.5+11.5j]\n",
      " [17. +10.5j 11.  +0.5j 12.5-11.5j  0.  +0.j ]]\n"
     ]
    }
   ],
   "source": [
    "P = np.random.choice(np.arange(51), size=16, replace=True).reshape(4,4)\n",
    "Q = np.random.choice(np.arange(0, 51, 1, dtype=complex)*1j, size=16,\n",
    "                     replace=True).reshape(4,4)\n",
    "R = P + Q\n",
    "H = (R + R.conj().T)/2\n",
    "print(f'H =\\n{H}')"
   ]
  },
  {
   "cell_type": "markdown",
   "metadata": {},
   "source": [
    "> 複素数を成分にもつ行列の`A`を複素共役(`.conj()`メソッド)し，さらに転置(`.T`)した行列`A.conj().T`を`A`のエルミート共役という。ある正方行列`H`について，エルミート共役をとっ行列`H.conj().T`が元の行列`H`に等しくなったとき，すなわち，`H.conj().T == H`のとき，`H`をエルミート行列という。"
   ]
  },
  {
   "cell_type": "code",
   "execution_count": 3,
   "metadata": {},
   "outputs": [
    {
     "data": {
      "text/plain": [
       "array([[ True,  True,  True,  True],\n",
       "       [ True,  True,  True,  True],\n",
       "       [ True,  True,  True,  True],\n",
       "       [ True,  True,  True,  True]])"
      ]
     },
     "execution_count": 3,
     "metadata": {},
     "output_type": "execute_result"
    }
   ],
   "source": [
    "H == H.conj().T"
   ]
  },
  {
   "cell_type": "markdown",
   "metadata": {},
   "source": [
    "> `H`は確かにエルミート行列。"
   ]
  },
  {
   "cell_type": "markdown",
   "metadata": {},
   "source": [
    "**▫︎ 5-3-2-0-2.** `sp.linalg.eigh`関数を用いて`H`の固有値`lmd`と固有ベクトルの4つの組み`W`を求める："
   ]
  },
  {
   "cell_type": "code",
   "execution_count": 4,
   "metadata": {},
   "outputs": [
    {
     "name": "stdout",
     "output_type": "stream",
     "text": [
      "lmd = [-25.88148564 -13.9952581   18.00838122  96.86836252]\n",
      "W = \n",
      "[[ 0.23508833-0.j          0.59031618+0.j          0.54532587-0.j\n",
      "  -0.54669917-0.j        ]\n",
      " [ 0.2205978 -0.13397802j -0.45779245+0.3830757j  -0.26522326-0.14426482j\n",
      "  -0.66401314+0.21212356j]\n",
      " [-0.44774348+0.57142614j  0.17787369-0.27756133j -0.38880478+0.2017285j\n",
      "  -0.38829921+0.14723718j]\n",
      " [-0.2884175 -0.51762271j -0.27434907-0.33355529j  0.21573479+0.6107855j\n",
      "  -0.20506804+0.02649902j]]\n"
     ]
    }
   ],
   "source": [
    "lmd, W = sp.linalg.eigh(H)\n",
    "print(f'lmd = {lmd}')\n",
    "print(f'W = \\n{W}')"
   ]
  },
  {
   "cell_type": "markdown",
   "metadata": {},
   "source": [
    "> 行列`W`の各列ベクトルが配列`lmd`の各成分に属する固有ベクトルである。"
   ]
  },
  {
   "cell_type": "markdown",
   "metadata": {},
   "source": [
    "**▫︎ 5−3−2−0-3.** 自明ではあるか，`W`はユニタリー行列となっており，`W`を用いたユニタリー変換で，`H`は対角化できる："
   ]
  },
  {
   "cell_type": "code",
   "execution_count": 5,
   "metadata": {},
   "outputs": [
    {
     "name": "stdout",
     "output_type": "stream",
     "text": [
      "W @ W.conj().T = \n",
      "[[ 1.+0.j -0.-0.j -0.-0.j -0.+0.j]\n",
      " [-0.+0.j  1.+0.j -0.-0.j -0.+0.j]\n",
      " [-0.+0.j -0.+0.j  1.+0.j -0.+0.j]\n",
      " [-0.-0.j -0.-0.j -0.-0.j  1.+0.j]]\n"
     ]
    }
   ],
   "source": [
    "print(f'W @ W.conj().T = \\n{np.round(W @ W.conj().T, 8)}')"
   ]
  },
  {
   "cell_type": "markdown",
   "metadata": {},
   "source": [
    "> ある正方行列`W`のエルミート共役をとった`W.conj().T`が元の行列`W`の逆行列になっているとき，すなわち，`W @ W.conj().T == W.conj().T @ W == I`のとき，`W`をユニタリー行列という。ここで，`I`は単位行列。"
   ]
  },
  {
   "cell_type": "code",
   "execution_count": 6,
   "metadata": {},
   "outputs": [
    {
     "name": "stdout",
     "output_type": "stream",
     "text": [
      "W.conj().T @ H @ W =\n",
      "[[-25.88148564-0.j  -0.        +0.j  -0.        -0.j  -0.        -0.j]\n",
      " [ -0.        -0.j -13.9952581 +0.j   0.        +0.j   0.        -0.j]\n",
      " [ -0.        +0.j   0.        -0.j  18.00838122+0.j   0.        -0.j]\n",
      " [ -0.        -0.j   0.        +0.j   0.        -0.j  96.86836252+0.j]]\n"
     ]
    }
   ],
   "source": [
    "print(f'W.conj().T @ H @ W =\\n{np.round(W.conj().T @ H @ W, 8)}')"
   ]
  },
  {
   "cell_type": "markdown",
   "metadata": {},
   "source": [
    "> `W.conj().T @ H @ W`は固有値を対角成分に並べた，対角化行列。"
   ]
  },
  {
   "cell_type": "markdown",
   "metadata": {},
   "source": [
    "**▫︎ 5-3-2-0-4.** 5−3−2−0-3の下のセルに得た対角化行列は，5-3-2-0-2で得た固有値配列`lmd`と`sp.linalg.diagsvd`関数からもっと綺麗な形で作ることができる。これを`Lmd`とする："
   ]
  },
  {
   "cell_type": "code",
   "execution_count": 7,
   "metadata": {},
   "outputs": [
    {
     "name": "stdout",
     "output_type": "stream",
     "text": [
      "Lmd =\n",
      "[[-25.88148564   0.           0.           0.        ]\n",
      " [  0.         -13.9952581    0.           0.        ]\n",
      " [  0.           0.          18.00838122   0.        ]\n",
      " [  0.           0.           0.          96.86836252]]\n"
     ]
    }
   ],
   "source": [
    "Lmd = sp.linalg.diagsvd(lmd, 4, 4)\n",
    "print(f'Lmd =\\n{Lmd}')"
   ]
  },
  {
   "cell_type": "markdown",
   "metadata": {},
   "source": [
    "**▫︎ 5-3-2-0-5.** この対角化行列`Lmd`に，左から`W`を，右から`W.conj().T`を掛けると，元のエルミート行列`H`が得られる："
   ]
  },
  {
   "cell_type": "code",
   "execution_count": 8,
   "metadata": {},
   "outputs": [
    {
     "name": "stdout",
     "output_type": "stream",
     "text": [
      "W @ Lmd @ W.conj().T =\n",
      "[[28.  +0.j  35. +15.j  18.  +7.j  17. -10.5j]\n",
      " [35. -15.j  42.  +0.j  36.5 +6.j  11.  -0.5j]\n",
      " [18.  -7.j  36.5 -6.j   5.  +0.j  12.5+11.5j]\n",
      " [17. +10.5j 11.  +0.5j 12.5-11.5j -0.  +0.j ]]\n"
     ]
    }
   ],
   "source": [
    "print(f'W @ Lmd @ W.conj().T =\\n{np.round(W @ Lmd @ W.conj().T, 8)}')"
   ]
  },
  {
   "cell_type": "markdown",
   "metadata": {},
   "source": [
    "> なせなら，`Lmd = W.conj().T @ H @ W`だったので，  \n",
    "`W @ Lmd @ W.conj().T`   \n",
    "`== W @ (W.conj().T @ H @ W) @ W.conj().T `  \n",
    "`== (W @ W.conj().T) @ H @ (W @ W.conj().T)`  \n",
    "`== I @ H @ I == H`  \n",
    "だからだ。つまり，  \n",
    "`H = W @ Lmd @ W.conj().T`．  \n",
    "このように，エルミート行列`H`を固有値対角化行列`Lmd`と固有ベクトルからなるユニタリー行列`W`でもって，上のように分解することを，エルミート行列の**固有値分解**という。"
   ]
  },
  {
   "cell_type": "markdown",
   "metadata": {},
   "source": [
    "#### 5-3-2-1. 特異値分解をScipy関数を使わずにまともにやってみる"
   ]
  },
  {
   "cell_type": "markdown",
   "metadata": {},
   "source": [
    "`A`を次のように与える："
   ]
  },
  {
   "cell_type": "code",
   "execution_count": 9,
   "metadata": {},
   "outputs": [],
   "source": [
    "A = np.array([[1,2,3,4,5],\n",
    "              [6,7,8,9,10]])"
   ]
  },
  {
   "cell_type": "markdown",
   "metadata": {},
   "source": [
    "> `A`は2×5列の行列。"
   ]
  },
  {
   "cell_type": "markdown",
   "metadata": {},
   "source": [
    "**◽︎ 5-3-2-1-1.** `M`を`A`と`A`のエルミート共役の積として定義する："
   ]
  },
  {
   "cell_type": "code",
   "execution_count": 10,
   "metadata": {},
   "outputs": [
    {
     "name": "stdout",
     "output_type": "stream",
     "text": [
      "[[ 55 130]\n",
      " [130 330]]\n"
     ]
    }
   ],
   "source": [
    "M = A @ A.conj().T\n",
    "print(M)"
   ]
  },
  {
   "cell_type": "markdown",
   "metadata": {},
   "source": [
    "> `M`は2×2行列。 ← `A`(2×5)と`A`のエルミート共役(5×2)の積なので"
   ]
  },
  {
   "cell_type": "markdown",
   "metadata": {},
   "source": [
    "**◽︎ 5-3-2-1-2.** `N`を`A`のエルミート共役と`A`の積として定義する："
   ]
  },
  {
   "cell_type": "code",
   "execution_count": 11,
   "metadata": {},
   "outputs": [
    {
     "name": "stdout",
     "output_type": "stream",
     "text": [
      "[[ 37  44  51  58  65]\n",
      " [ 44  53  62  71  80]\n",
      " [ 51  62  73  84  95]\n",
      " [ 58  71  84  97 110]\n",
      " [ 65  80  95 110 125]]\n"
     ]
    }
   ],
   "source": [
    "N = A.conj().T @ A\n",
    "print(N)"
   ]
  },
  {
   "cell_type": "markdown",
   "metadata": {},
   "source": [
    "> `N`は5×5行列。 ← `A`のエルミート共役(5×2)と`A`(2×5)の積なので"
   ]
  },
  {
   "cell_type": "markdown",
   "metadata": {},
   "source": [
    "**◽︎ 5-3-2-1-3.** `M`と`N`のエルミート性を確かめる："
   ]
  },
  {
   "cell_type": "code",
   "execution_count": 12,
   "metadata": {},
   "outputs": [
    {
     "data": {
      "text/plain": [
       "array([[ True,  True],\n",
       "       [ True,  True]])"
      ]
     },
     "execution_count": 12,
     "metadata": {},
     "output_type": "execute_result"
    }
   ],
   "source": [
    "M == M.conj().T"
   ]
  },
  {
   "cell_type": "code",
   "execution_count": 13,
   "metadata": {},
   "outputs": [
    {
     "data": {
      "text/plain": [
       "array([[ True,  True,  True,  True,  True],\n",
       "       [ True,  True,  True,  True,  True],\n",
       "       [ True,  True,  True,  True,  True],\n",
       "       [ True,  True,  True,  True,  True],\n",
       "       [ True,  True,  True,  True,  True]])"
      ]
     },
     "execution_count": 13,
     "metadata": {},
     "output_type": "execute_result"
    }
   ],
   "source": [
    "N == N.conj().T"
   ]
  },
  {
   "cell_type": "markdown",
   "metadata": {},
   "source": [
    "> `M`，`N`はエルミート行列。"
   ]
  },
  {
   "cell_type": "markdown",
   "metadata": {},
   "source": [
    "**◽︎ 5-3-2-1-4.** `M`の固有値`lambda_M`と`lambda_M`に属する固有ベクトル`u_M`を求める。対象になる行列がエルミート行列とわかっているので，`sp.linalg.eig`関数ではなく`sp.linalg.eigh`を使う："
   ]
  },
  {
   "cell_type": "code",
   "execution_count": 14,
   "metadata": {},
   "outputs": [
    {
     "name": "stdout",
     "output_type": "stream",
     "text": [
      "Mの固有値：[  3.2746053 381.7253947]\n",
      "Mの固有に属する固有ベクトル：\n",
      "[[-0.92915194  0.36969808]\n",
      " [ 0.36969808  0.92915194]]\n"
     ]
    }
   ],
   "source": [
    "lambda_M, u_M = sp.linalg.eigh(M)\n",
    "print(f'Mの固有値：{lambda_M}')\n",
    "print(f'Mの固有に属する固有ベクトル：\\n{u_M}')"
   ]
  },
  {
   "cell_type": "markdown",
   "metadata": {},
   "source": [
    "> `M`がエルミート行列`M`でかつ`A @ A.conj().T`(絶対値の２乗と解釈できる)で定義されているので，`lambda_M`は純粋に正の実数または0の組み。"
   ]
  },
  {
   "cell_type": "markdown",
   "metadata": {},
   "source": [
    "**◽︎ 5-3-2-1-5.** `N`の固有値`lambda_N`と`lambda_N`に属する固有ベクトル`v_N`を求める："
   ]
  },
  {
   "cell_type": "code",
   "execution_count": 15,
   "metadata": {},
   "outputs": [
    {
     "name": "stdout",
     "output_type": "stream",
     "text": [
      "Nの固有値：[ -0.          0.          0.          3.2746053 381.7253947]\n",
      "Nの固有に属する固有ベクトル：\n",
      "[[ 0.63245553  0.          0.          0.71233741 -0.30426207]\n",
      " [-0.63245553  0.15130442 -0.52640951  0.40317635 -0.37074092]\n",
      " [-0.31622777  0.19062325  0.814655    0.09401529 -0.43721977]\n",
      " [-0.         -0.83515977 -0.05008148 -0.21514578 -0.50369862]\n",
      " [ 0.31622777  0.4932321  -0.23816402 -0.52430684 -0.57017746]]\n"
     ]
    }
   ],
   "source": [
    "lambda_N, v_N = sp.linalg.eigh(N)\n",
    "print(f'Nの固有値：{np.round(lambda_N, 8)}')\n",
    "print(f'Nの固有に属する固有ベクトル：\\n{np.round(v_N, 8)}')"
   ]
  },
  {
   "cell_type": "markdown",
   "metadata": {},
   "source": [
    "> `N`がエルミート行列`N`でかつ`A.conj().T @ A`(絶対値の２乗と解釈できる)で定義されているので，`lambda_N`は純粋に正の実数または0の組み。"
   ]
  },
  {
   "cell_type": "markdown",
   "metadata": {},
   "source": [
    "**◽︎ 5-3-2-1-6.** `M`と`N`(の実質的に0を除く)固有値は一致していることに注意せよ："
   ]
  },
  {
   "cell_type": "code",
   "execution_count": 16,
   "metadata": {},
   "outputs": [
    {
     "name": "stdout",
     "output_type": "stream",
     "text": [
      "lambda_M = [  3.2746053 381.7253947]\n",
      "lambda_N[3:] = [  3.2746053 381.7253947]\n"
     ]
    }
   ],
   "source": [
    "print(f'lambda_M = {lambda_M}')\n",
    "print(f'lambda_N[3:] = {lambda_N[3:]}')"
   ]
  },
  {
   "cell_type": "markdown",
   "metadata": {},
   "source": [
    "> 順序が入れ替わっているだけ。"
   ]
  },
  {
   "cell_type": "markdown",
   "metadata": {},
   "source": [
    "**◽︎ 5-3-2-1-7.** `lambda_M`の**平方根**をとり，それらを**大きいものから並べた順**の配列を`sigma_M`とする："
   ]
  },
  {
   "cell_type": "code",
   "execution_count": 17,
   "metadata": {},
   "outputs": [
    {
     "name": "stdout",
     "output_type": "stream",
     "text": [
      "sigma_M = [19.53779401  1.80958705]\n"
     ]
    }
   ],
   "source": [
    "sigma_M = np.sort(np.sqrt(np.real(lambda_M)))[::-1]\n",
    "print(f'sigma_M = {sigma_M}')"
   ]
  },
  {
   "cell_type": "markdown",
   "metadata": {},
   "source": [
    "**◽︎ 5-3-2-1-8.** `sigma_M`を得るとき，固有値の順序を(小→大を大→小に)入れ替えたので，固有値`lambda_M`に属する固有ベクトル`u_M`の列(の順序)も入れ替えておき，そうすることによって得られる新たなユニタリー行列をU_Mとする："
   ]
  },
  {
   "cell_type": "code",
   "execution_count": 18,
   "metadata": {},
   "outputs": [
    {
     "name": "stdout",
     "output_type": "stream",
     "text": [
      "[[ 0.36969808 -0.92915194]\n",
      " [ 0.92915194  0.36969808]]\n"
     ]
    }
   ],
   "source": [
    "U_M = u_M[:, [1,0]]\n",
    "print(U_M)"
   ]
  },
  {
   "cell_type": "markdown",
   "metadata": {},
   "source": [
    "**◽︎ 5-3-2-1-9.** `lambda_N`の**平方根**をとり，それらを**大きいものから並べた順**の配列を`sigma_N`とする："
   ]
  },
  {
   "cell_type": "code",
   "execution_count": 19,
   "metadata": {},
   "outputs": [
    {
     "name": "stdout",
     "output_type": "stream",
     "text": [
      "sigma_N = [1.95377940e+01 1.80958705e+00 5.27458833e-08 3.21148546e-08\n",
      "            nan]\n"
     ]
    },
    {
     "name": "stderr",
     "output_type": "stream",
     "text": [
      "/Users/me/anaconda3/lib/python3.7/site-packages/ipykernel_launcher.py:1: RuntimeWarning: invalid value encountered in sqrt\n",
      "  \"\"\"Entry point for launching an IPython kernel.\n"
     ]
    }
   ],
   "source": [
    "sigma_N = np.sqrt(np.sort(np.real(lambda_N)))[::-1]\n",
    "print(f'sigma_N = {sigma_N}')"
   ]
  },
  {
   "cell_type": "markdown",
   "metadata": {},
   "source": [
    "> `nan`が出ているのは，実質的には0であるが誤差として負の値をとる固有値があり，それに対して平方根をとったからからだ。"
   ]
  },
  {
   "cell_type": "markdown",
   "metadata": {},
   "source": [
    "**◽︎ 5-3-2-1-10.** `sigma_N`を得るとき，固有値の順序を(小→大を大→小に)入れ替えたので，固有値`lambda_N`に属する固有ベクトル`v_N`の列(の順序)も入れ替えておき，そうすることによって得られる新たなユニタリー行列をV_Nとする："
   ]
  },
  {
   "cell_type": "code",
   "execution_count": 20,
   "metadata": {},
   "outputs": [
    {
     "name": "stdout",
     "output_type": "stream",
     "text": [
      "V_N = \n",
      "[[-0.30426207  0.71233741  0.          0.          0.63245553]\n",
      " [-0.37074092  0.40317635 -0.52640951  0.15130442 -0.63245553]\n",
      " [-0.43721977  0.09401529  0.814655    0.19062325 -0.31622777]\n",
      " [-0.50369862 -0.21514578 -0.05008148 -0.83515977 -0.        ]\n",
      " [-0.57017746 -0.52430684 -0.23816402  0.4932321   0.31622777]]\n"
     ]
    }
   ],
   "source": [
    "V_N = v_N[:,[4,3,2,1,0]]\n",
    "print(f'V_N = \\n{np.round(V_N, 8)}')"
   ]
  },
  {
   "cell_type": "markdown",
   "metadata": {},
   "source": [
    "**◽︎ 5-3-2-1-11.** `U_M`と`V_N`のユニタリー性を確かめ，それぞれが`M`と`N`を対角化するかを確かめる："
   ]
  },
  {
   "cell_type": "code",
   "execution_count": 21,
   "metadata": {},
   "outputs": [
    {
     "name": "stdout",
     "output_type": "stream",
     "text": [
      "U_M @ U_M.conj().T =\n",
      " [[1. 0.]\n",
      " [0. 1.]]\n",
      "\n",
      "V_N @ V_N.conj().T =\n",
      " [[ 1. -0. -0.  0. -0.]\n",
      " [-0.  1.  0. -0. -0.]\n",
      " [-0.  0.  1. -0. -0.]\n",
      " [ 0. -0. -0.  1. -0.]\n",
      " [-0. -0. -0. -0.  1.]]\n"
     ]
    }
   ],
   "source": [
    "print(f'U_M @ U_M.conj().T =\\n {np.round(U_M @ U_M.conj().T, 8)}')\n",
    "print()\n",
    "print(f'V_N @ V_N.conj().T =\\n {np.round(V_N.conj().T @ V_N, 8)}')"
   ]
  },
  {
   "cell_type": "code",
   "execution_count": 22,
   "metadata": {},
   "outputs": [
    {
     "name": "stdout",
     "output_type": "stream",
     "text": [
      "U_M.conj().T @ M @ U_M =\n",
      "[[381.7253947   0.       ]\n",
      " [  0.          3.2746053]]\n",
      "\n",
      "V_N.conj().T @ N @ V_N =\n",
      "[[381.7253947  -0.         -0.         -0.         -0.       ]\n",
      " [ -0.          3.2746053   0.          0.         -0.       ]\n",
      " [ -0.         -0.         -0.         -0.         -0.       ]\n",
      " [  0.          0.         -0.          0.          0.       ]\n",
      " [ -0.         -0.         -0.         -0.         -0.       ]]\n"
     ]
    }
   ],
   "source": [
    "print(f'U_M.conj().T @ M @ U_M =\\n{np.round(U_M.conj().T @ M @ U_M, 8)}')\n",
    "print()\n",
    "print(f'V_N.conj().T @ N @ V_N =\\n{np.round(V_N.conj().T @ N @ V_N, 8)}')"
   ]
  },
  {
   "cell_type": "markdown",
   "metadata": {},
   "source": [
    "**◽︎ 5-3-2-1-12.** `A`のシェイプを調べる："
   ]
  },
  {
   "cell_type": "code",
   "execution_count": 23,
   "metadata": {},
   "outputs": [
    {
     "data": {
      "text/plain": [
       "(2, 5)"
      ]
     },
     "execution_count": 23,
     "metadata": {},
     "output_type": "execute_result"
    }
   ],
   "source": [
    "A.shape"
   ]
  },
  {
   "cell_type": "markdown",
   "metadata": {},
   "source": [
    "**◽︎ 5-3-2-1-13.** `sigma_M`と`sigma_N`の共通で0でない値を行列`A`の**特異値**という。これらの特異値を大きいものから順に対角成分にならべ，`A`と同じ型(2×5)の行列`Sigma`をつくる："
   ]
  },
  {
   "cell_type": "code",
   "execution_count": 24,
   "metadata": {},
   "outputs": [
    {
     "name": "stdout",
     "output_type": "stream",
     "text": [
      "[[19.53779401  0.          0.          0.          0.        ]\n",
      " [ 0.          1.80958705  0.          0.          0.        ]]\n"
     ]
    }
   ],
   "source": [
    "Sigma = sp.linalg.diagsvd(sigma_M, 2, 5)\n",
    "print(Sigma)"
   ]
  },
  {
   "cell_type": "markdown",
   "metadata": {},
   "source": [
    "**◽︎ 5-3-2-1-14.** `U_M`, `Sigma`, `V_N`を用いて元の行列`A`が得られるかを見てみる。"
   ]
  },
  {
   "cell_type": "code",
   "execution_count": 25,
   "metadata": {},
   "outputs": [
    {
     "data": {
      "text/plain": [
       "array([[ -3.39542164,  -3.35578637,  -3.3161511 ,  -3.27651582,\n",
       "         -3.23688055],\n",
       "       [ -5.04689131,  -6.46054935,  -7.87420738,  -9.28786542,\n",
       "        -10.70152346]])"
      ]
     },
     "execution_count": 25,
     "metadata": {},
     "output_type": "execute_result"
    }
   ],
   "source": [
    "U_M @ Sigma @ V_N.conj().T"
   ]
  },
  {
   "cell_type": "markdown",
   "metadata": {},
   "source": [
    "> 失敗！"
   ]
  },
  {
   "cell_type": "markdown",
   "metadata": {},
   "source": [
    "**◽︎ 5-3-2-1-15.** 上記失敗は，実は１つ操作が足りなかったのだ：  \n",
    "**「特異値分解した時，`U_M`のm列目の固有(列)ベクトルをその固有値の平方根で除して，さらに右から行列`A`のエルミート共役を掛けたときの列ベクトルが，`V_N`のm列目の固有(列)ベクトルに等しくならなければならない」**  \n",
    "という**条件**があるが，それを確認していなかった。この確認作業を行ってみる："
   ]
  },
  {
   "cell_type": "code",
   "execution_count": 26,
   "metadata": {},
   "outputs": [
    {
     "name": "stdout",
     "output_type": "stream",
     "text": [
      "A.conj().T @ U_M[:,0] / sigma_M[0] =\n",
      "\t[0.30426207 0.37074092 0.43721977 0.50369862 0.57017746]\n",
      "U_N[:,0] =\n",
      "\t[-0.30426207 -0.37074092 -0.43721977 -0.50369862 -0.57017746]\n",
      "\n",
      "A.conj().T @ U_M[:,1] / sigma_M[1] =\n",
      "\t[ 0.71233741  0.40317635  0.09401529 -0.21514578 -0.52430684]\n",
      "V_N[:,1] =\n",
      "\t[ 0.71233741  0.40317635  0.09401529 -0.21514578 -0.52430684]\n"
     ]
    }
   ],
   "source": [
    "print(f'A.conj().T @ U_M[:,0] / sigma_M[0] =\\n\\t{A.conj().T @ U_M[:,0] / sigma_M[0]}')\n",
    "print(f'U_N[:,0] =\\n\\t{V_N[:,0]}')\n",
    "print()\n",
    "print(f'A.conj().T @ U_M[:,1] / sigma_M[1] =\\n\\t{A.conj().T @ U_M[:,1] / sigma_M[1]}')\n",
    "print(f'V_N[:,1] =\\n\\t{V_N[:,1]}')"
   ]
  },
  {
   "cell_type": "markdown",
   "metadata": {},
   "source": [
    "> `A.conj().T @ U_M[:,0] / sigma_M[0]`と`U_N[:,0]`の符号が反転している。これゆえ，`U_M @ Sigma @ U_N.conj().T`が元の行列`A`に戻らなかったのだ。"
   ]
  },
  {
   "cell_type": "markdown",
   "metadata": {},
   "source": [
    "**◽︎ 5-3-2-1-16.** ある固有値に属する固有ベクトルを得る際に，符号の任意性があることに注意しよう。このことから，上記問題の解決は単純だ。行列ユニタリー行列`U_M`の１列目の成分のすべて符号を反転すれば良い。これは，`U_M`に`[[-1, 0], [0, 1]]`という行列を右から掛け，それを新た`U_M`とすればよい："
   ]
  },
  {
   "cell_type": "code",
   "execution_count": 27,
   "metadata": {},
   "outputs": [
    {
     "name": "stdout",
     "output_type": "stream",
     "text": [
      "U_M =\n",
      "[[-0.36969808 -0.92915194]\n",
      " [-0.92915194  0.36969808]]\n"
     ]
    }
   ],
   "source": [
    "U_M = U_M @ [[-1, 0], [0, 1]] \n",
    "print(f'U_M =\\n{U_M}')"
   ]
  },
  {
   "cell_type": "markdown",
   "metadata": {},
   "source": [
    "**◽︎ 5-3-2-1-16.** 上で得た新しい`U_M`を用いて，5-3-2-1-14で施した変換をもう一度行ってみる。"
   ]
  },
  {
   "cell_type": "code",
   "execution_count": 28,
   "metadata": {},
   "outputs": [
    {
     "data": {
      "text/plain": [
       "array([[ 1.,  2.,  3.,  4.,  5.],\n",
       "       [ 6.,  7.,  8.,  9., 10.]])"
      ]
     },
     "execution_count": 28,
     "metadata": {},
     "output_type": "execute_result"
    }
   ],
   "source": [
    "U_M @ Sigma @ V_N.conj().T"
   ]
  },
  {
   "cell_type": "markdown",
   "metadata": {},
   "source": [
    "> 元の行列`A`が得られた。任意の矩形行列`A`を`U_M @ Sigma @ V_N.conj().T`のように分解することを`A`の**特異値分解**という。"
   ]
  },
  {
   "cell_type": "markdown",
   "metadata": {},
   "source": [
    "### 5-3-2-2. 特異値分解をsp.linalg.svdを使ってやってみる"
   ]
  },
  {
   "cell_type": "markdown",
   "metadata": {},
   "source": [
    "**▫︎ 5-3-2-2-1**. 5-3-2-2の特異値分解のやり方は煩雑で細心の注意が必要であるか，`sp.linalg.svd`関数を用いると，いとも簡単に特異値分解を遂行できる。"
   ]
  },
  {
   "cell_type": "code",
   "execution_count": 29,
   "metadata": {},
   "outputs": [],
   "source": [
    "U, s, Vh = sp.linalg.svd(A)"
   ]
  },
  {
   "cell_type": "markdown",
   "metadata": {},
   "source": [
    "> `U`は5-3-2-1の`U_M`に対応，`s`は5-3-2-1の`sigma`に対応，`Vh.conj().T`は5-3-2-1の`V_M`に対応する。→多分`Vh`の`V`の後ろの`h`は，エルミート(**H**ermite)共役の`h`を示していると思われる。"
   ]
  },
  {
   "cell_type": "code",
   "execution_count": 30,
   "metadata": {},
   "outputs": [
    {
     "name": "stdout",
     "output_type": "stream",
     "text": [
      "s = [19.53779401  1.80958705]\n"
     ]
    }
   ],
   "source": [
    "print(f's = {s}')"
   ]
  },
  {
   "cell_type": "markdown",
   "metadata": {},
   "source": [
    "> `s`は5-3-2-1-7の`sigma_M`と実質的には同等。"
   ]
  },
  {
   "cell_type": "code",
   "execution_count": 31,
   "metadata": {},
   "outputs": [
    {
     "name": "stdout",
     "output_type": "stream",
     "text": [
      "U =\n",
      "[[-0.36969808 -0.92915194]\n",
      " [-0.92915194  0.36969808]]\n"
     ]
    }
   ],
   "source": [
    "print(f'U =\\n{U}')"
   ]
  },
  {
   "cell_type": "markdown",
   "metadata": {},
   "source": [
    "> `U`は5-3-2-1-15の`U_M`と実質的には同等。"
   ]
  },
  {
   "cell_type": "code",
   "execution_count": 32,
   "metadata": {},
   "outputs": [
    {
     "name": "stdout",
     "output_type": "stream",
     "text": [
      "Vh.conj().T =\n",
      "[[-0.30426207  0.71233741 -0.37361263 -0.36508193 -0.35655124]\n",
      " [-0.37074092  0.40317635 -0.00758313  0.37111404  0.74981122]\n",
      " [-0.43721977  0.09401529  0.86173399 -0.15883518 -0.17940435]\n",
      " [-0.50369862 -0.21514578 -0.20626808  0.66465596 -0.46441999]\n",
      " [-0.57017746 -0.52430684 -0.27427015 -0.51185289  0.25056436]]\n"
     ]
    }
   ],
   "source": [
    "print(f'Vh.conj().T =\\n{Vh.conj().T}') "
   ]
  },
  {
   "cell_type": "markdown",
   "metadata": {},
   "source": [
    "> `Vh.conj().T`の3列目以降が5-3-2-1-15の`V_M`の3列目以降と一致しないのは，これはこれで構わない。これはユニタリー行列を作る際の任意性によるものではあるが，特異値分解に直接関係しないからであるからだ。"
   ]
  },
  {
   "cell_type": "markdown",
   "metadata": {},
   "source": [
    "**▫︎ 5-3-2-2-2.** `U`と`Vh`のユニタリー性を確かめる（実用計算には必要なし）："
   ]
  },
  {
   "cell_type": "code",
   "execution_count": 33,
   "metadata": {},
   "outputs": [
    {
     "name": "stdout",
     "output_type": "stream",
     "text": [
      "U @ U.conj().T =\n",
      "[[ 1. -0.]\n",
      " [-0.  1.]]\n"
     ]
    }
   ],
   "source": [
    "print(f'U @ U.conj().T =\\n{np.round(U @ U.conj().T, 8)}')"
   ]
  },
  {
   "cell_type": "markdown",
   "metadata": {},
   "source": [
    "> U（Uh）はユニタリー行列。"
   ]
  },
  {
   "cell_type": "code",
   "execution_count": 34,
   "metadata": {},
   "outputs": [
    {
     "name": "stdout",
     "output_type": "stream",
     "text": [
      "Vh.conj().T @ Vh =\n",
      "[[ 1.  0. -0.  0. -0.]\n",
      " [ 0.  1. -0. -0. -0.]\n",
      " [-0. -0.  1. -0. -0.]\n",
      " [ 0. -0. -0.  1. -0.]\n",
      " [-0. -0. -0. -0.  1.]]\n"
     ]
    }
   ],
   "source": [
    "print(f'Vh.conj().T @ Vh =\\n{np.round(Vh.conj().T @ Vh, 10)}')"
   ]
  },
  {
   "cell_type": "markdown",
   "metadata": {},
   "source": [
    "**▫︎ 5-3-2-2-3.** 特異値配列`s`から，`A`と同じ型(2×5)の行列`S`をつくる:"
   ]
  },
  {
   "cell_type": "code",
   "execution_count": 35,
   "metadata": {},
   "outputs": [
    {
     "name": "stdout",
     "output_type": "stream",
     "text": [
      "S =\n",
      "[[19.53779401  0.          0.          0.          0.        ]\n",
      " [ 0.          1.80958705  0.          0.          0.        ]]\n"
     ]
    }
   ],
   "source": [
    "m, n = A.shape\n",
    "S = sp.linalg.diagsvd(s, m, n)\n",
    "print(f'S =\\n{S}')"
   ]
  },
  {
   "cell_type": "markdown",
   "metadata": {},
   "source": [
    "**▫︎ 5-3-2-2-4.** `U @ S @ Vh`が元の`A`を与えるかを確かめる："
   ]
  },
  {
   "cell_type": "code",
   "execution_count": 36,
   "metadata": {},
   "outputs": [
    {
     "data": {
      "text/plain": [
       "array([[ 1.,  2.,  3.,  4.,  5.],\n",
       "       [ 6.,  7.,  8.,  9., 10.]])"
      ]
     },
     "execution_count": 36,
     "metadata": {},
     "output_type": "execute_result"
    }
   ],
   "source": [
    "U @ S @ Vh"
   ]
  },
  {
   "cell_type": "markdown",
   "metadata": {},
   "source": [
    "> 確かに上記は`A`の特異値分解を与える（しかも5-3-2-2でやったやり方より正確に）。"
   ]
  },
  {
   "cell_type": "markdown",
   "metadata": {},
   "source": [
    "### 5-3-2-A. 固有値分解をsp.linalg.svdを使ってやってみる"
   ]
  },
  {
   "cell_type": "markdown",
   "metadata": {},
   "source": [
    "**▫︎ 5-3-2-A-1.** `sp.linalg.svd`関数を用いて固有値分解もできる："
   ]
  },
  {
   "cell_type": "code",
   "execution_count": 37,
   "metadata": {},
   "outputs": [
    {
     "name": "stdout",
     "output_type": "stream",
     "text": [
      "Q =\n",
      "[[-0.54669917+0.j         -0.23508833-0.j         -0.54532587+0.j\n",
      "  -0.59031618+0.j        ]\n",
      " [-0.66401314+0.21212356j -0.2205978 +0.13397802j  0.26522326+0.14426482j\n",
      "   0.45779245-0.3830757j ]\n",
      " [-0.38829921+0.14723718j  0.44774348-0.57142614j  0.38880478-0.2017285j\n",
      "  -0.17787369+0.27756133j]\n",
      " [-0.20506804+0.02649902j  0.2884175 +0.51762271j -0.21573479-0.6107855j\n",
      "   0.27434907+0.33355529j]]\n",
      "\n",
      "λ =\n",
      "[96.86836252 25.88148564 18.00838122 13.9952581 ]\n",
      "\n",
      "Qh =\n",
      "[[-0.54669917+0.j         -0.66401314-0.21212356j -0.38829921-0.14723718j\n",
      "  -0.20506804-0.02649902j]\n",
      " [ 0.23508833+0.j          0.2205978 +0.13397802j -0.44774348-0.57142614j\n",
      "  -0.2884175 +0.51762271j]\n",
      " [-0.54532587+0.j          0.26522326-0.14426482j  0.38880478+0.2017285j\n",
      "  -0.21573479+0.6107855j ]\n",
      " [ 0.59031618+0.j         -0.45779245-0.3830757j   0.17787369+0.27756133j\n",
      "  -0.27434907+0.33355529j]]\n"
     ]
    }
   ],
   "source": [
    "Q, λ, Qh = sp.linalg.svd(H)\n",
    "print(f'Q =\\n{np.round(Q, 8)}')\n",
    "print()\n",
    "print(f'λ =\\n{λ}')\n",
    "print()\n",
    "print(f'Qh =\\n{np.round(Qh,8)}')"
   ]
  },
  {
   "cell_type": "markdown",
   "metadata": {},
   "source": [
    "> `λ`は`H`の固有値，`Q`は`λ`に属する固有ベクトルから作られたユニタリー行列，`Qh`は`Q`のエルミート共役。"
   ]
  },
  {
   "cell_type": "markdown",
   "metadata": {},
   "source": [
    "**▫︎ 5-3-2-A-2.** `λ`とsp.linalg.diagsvd関数を用いて，固有値を対角成分にもつ対角化行列Λを作成する："
   ]
  },
  {
   "cell_type": "code",
   "execution_count": 38,
   "metadata": {},
   "outputs": [
    {
     "name": "stdout",
     "output_type": "stream",
     "text": [
      "Λ = \n",
      "[[96.86836252  0.          0.          0.        ]\n",
      " [ 0.         25.88148564  0.          0.        ]\n",
      " [ 0.          0.         18.00838122  0.        ]\n",
      " [ 0.          0.          0.         13.9952581 ]]\n"
     ]
    }
   ],
   "source": [
    "Λ = sp.linalg.diagsvd(λ, 4, 4)\n",
    "print(f'Λ = \\n{Λ}')"
   ]
  },
  {
   "cell_type": "markdown",
   "metadata": {},
   "source": [
    "**▫︎ 5-3-2-A-2.** `Q`, `Λ`, `Qh`から元の行列`H`を得てみる："
   ]
  },
  {
   "cell_type": "code",
   "execution_count": 39,
   "metadata": {},
   "outputs": [
    {
     "name": "stdout",
     "output_type": "stream",
     "text": [
      "Q @ Λ @ Qh =\n",
      "[[28.  -0.j  35. +15.j  18.  +7.j  17. -10.5j]\n",
      " [35. -15.j  42.  -0.j  36.5 +6.j  11.  -0.5j]\n",
      " [18.  -7.j  36.5 -6.j   5.  -0.j  12.5+11.5j]\n",
      " [17. +10.5j 11.  +0.5j 12.5-11.5j  0.  -0.j ]]\n"
     ]
    }
   ],
   "source": [
    "print(f'Q @ Λ @ Qh =\\n{np.round(Q @ Λ @ Qh, 8)}')"
   ]
  },
  {
   "cell_type": "markdown",
   "metadata": {},
   "source": [
    "> 元の行列`H`は以下のとおり："
   ]
  },
  {
   "cell_type": "code",
   "execution_count": 40,
   "metadata": {},
   "outputs": [
    {
     "name": "stdout",
     "output_type": "stream",
     "text": [
      "H =\n",
      "[[28.  +0.j  35. +15.j  18.  +7.j  17. -10.5j]\n",
      " [35. -15.j  42.  +0.j  36.5 +6.j  11.  -0.5j]\n",
      " [18.  -7.j  36.5 -6.j   5.  +0.j  12.5+11.5j]\n",
      " [17. +10.5j 11.  +0.5j 12.5-11.5j  0.  +0.j ]]\n"
     ]
    }
   ],
   "source": [
    "print(f'H =\\n{H}')"
   ]
  },
  {
   "cell_type": "markdown",
   "metadata": {},
   "source": [
    "> このように`sp.linalg.svd`関数を用いれば，簡単に固有値分解もできる。"
   ]
  },
  {
   "cell_type": "markdown",
   "metadata": {},
   "source": [
    "***\n",
    "#### Special Practice"
   ]
  },
  {
   "cell_type": "code",
   "execution_count": 1,
   "metadata": {},
   "outputs": [],
   "source": [
    "import numpy as np\n",
    "import scipy as sp\n",
    "from scipy import interpolate"
   ]
  },
  {
   "cell_type": "code",
   "execution_count": 7,
   "metadata": {},
   "outputs": [
    {
     "name": "stdout",
     "output_type": "stream",
     "text": [
      "[[39. +1.j 39.+26.j 17.+49.j 22.+38.j  8. +7.j]\n",
      " [20. +3.j 23.+21.j 46.+44.j 46.+28.j 40.+23.j]\n",
      " [34.+29.j 22.+48.j 18.+16.j 37. +1.j  5.+28.j]]\n"
     ]
    }
   ],
   "source": [
    "Pr = np.random.choice(np.arange(51), size=15, replace=True).reshape(3,5)\n",
    "Pi = np.random.choice(np.arange(0, 51, 1, dtype=complex)*1j, size=15,\n",
    "                     replace=True).reshape(3,5)\n",
    "Pc = Pr + Pi\n",
    "print(Pc)"
   ]
  },
  {
   "cell_type": "code",
   "execution_count": 8,
   "metadata": {},
   "outputs": [],
   "source": [
    "U1, s1, V1h = sp.linalg.svd(Pc)"
   ]
  },
  {
   "cell_type": "code",
   "execution_count": 9,
   "metadata": {},
   "outputs": [
    {
     "name": "stdout",
     "output_type": "stream",
     "text": [
      "[[-0.57357664+1.43114323e-18j  0.45959462+5.72457291e-18j\n",
      "  -0.67807273+9.15931666e-17j]\n",
      " [-0.63122038+1.59495511e-01j -0.11537885-4.21879991e-01j\n",
      "   0.45574133-4.20864401e-01j]\n",
      " [-0.49712356-1.30083005e-04j -0.51927875+5.72562104e-01j\n",
      "   0.06854831+3.88190032e-01j]]\n",
      "\n",
      "[150.02091223  55.63849299  29.19047779]\n",
      "\n",
      "[[-0.34276144-1.33776738e-01j -0.29649943-3.71255484e-01j\n",
      "  -0.27142512-4.74383072e-01j -0.37049935-3.15283958e-01j\n",
      "  -0.19102865-2.58842146e-01j]\n",
      " [ 0.23903948-4.66855515e-01j  0.40385431-3.28765235e-01j\n",
      "  -0.29193929+3.27747347e-01j -0.46100704+2.14534757e-01j\n",
      "   0.05021179+6.47624841e-04j]\n",
      " [-0.17144116-7.20824355e-02j -0.15963267-1.24331759e-01j\n",
      "  -0.05605454+1.01461066e-02j -0.09637473-2.72031412e-01j\n",
      "   0.49116197+7.72461496e-01j]\n",
      " [-0.05628726+7.15175826e-02j  0.13083854-2.23392411e-01j\n",
      "  -0.68202365-1.16018173e-01j  0.61167021+1.43182148e-01j\n",
      "   0.21486533-7.25873418e-02j]\n",
      " [-0.45807697+5.80361055e-01j  0.57072474-2.63404588e-01j\n",
      "   0.10223464+1.27784118e-01j -0.14930557-6.74588021e-02j\n",
      "  -0.06089079+3.01097111e-02j]]\n"
     ]
    }
   ],
   "source": [
    "print(U1)\n",
    "print()\n",
    "print(s1)\n",
    "print()\n",
    "print(V1h)"
   ]
  },
  {
   "cell_type": "code",
   "execution_count": 14,
   "metadata": {},
   "outputs": [
    {
     "name": "stdout",
     "output_type": "stream",
     "text": [
      "[[1.+0.j 0.+0.j 0.+0.j]\n",
      " [0.+0.j 1.+0.j 0.-0.j]\n",
      " [0.-0.j 0.+0.j 1.+0.j]]\n"
     ]
    }
   ],
   "source": [
    "print(np.round(U1 @ U1.conj().T, 8))"
   ]
  },
  {
   "cell_type": "code",
   "execution_count": 15,
   "metadata": {},
   "outputs": [
    {
     "name": "stdout",
     "output_type": "stream",
     "text": [
      "[[ 1.+0.j  0.+0.j  0.+0.j  0.-0.j  0.+0.j]\n",
      " [ 0.-0.j  1.+0.j -0.+0.j  0.+0.j -0.+0.j]\n",
      " [ 0.-0.j -0.-0.j  1.+0.j  0.+0.j  0.-0.j]\n",
      " [ 0.+0.j  0.-0.j  0.-0.j  1.+0.j -0.-0.j]\n",
      " [ 0.-0.j -0.-0.j  0.+0.j -0.+0.j  1.+0.j]]\n"
     ]
    }
   ],
   "source": [
    "print(np.round(V1h @ V1h.conj().T, 8))"
   ]
  },
  {
   "cell_type": "code",
   "execution_count": 10,
   "metadata": {},
   "outputs": [
    {
     "name": "stdout",
     "output_type": "stream",
     "text": [
      "S1 =\n",
      "[[150.02091223   0.           0.           0.           0.        ]\n",
      " [  0.          55.63849299   0.           0.           0.        ]\n",
      " [  0.           0.          29.19047779   0.           0.        ]]\n"
     ]
    }
   ],
   "source": [
    "m1, n1 = Pc.shape\n",
    "S1 = sp.linalg.diagsvd(s1, m1, n1)\n",
    "print(f'S1 =\\n{S1}')"
   ]
  },
  {
   "cell_type": "code",
   "execution_count": 16,
   "metadata": {},
   "outputs": [
    {
     "name": "stdout",
     "output_type": "stream",
     "text": [
      "[[39. +1.j 39.+26.j 17.+49.j 22.+38.j  8. +7.j]\n",
      " [20. +3.j 23.+21.j 46.+44.j 46.+28.j 40.+23.j]\n",
      " [34.+29.j 22.+48.j 18.+16.j 37. +1.j  5.+28.j]]\n"
     ]
    }
   ],
   "source": [
    "print(U1 @ S1 @ V1h)"
   ]
  },
  {
   "cell_type": "code",
   "execution_count": null,
   "metadata": {},
   "outputs": [],
   "source": []
  }
 ],
 "metadata": {
  "kernelspec": {
   "display_name": "Python 3",
   "language": "python",
   "name": "python3"
  },
  "language_info": {
   "codemirror_mode": {
    "name": "ipython",
    "version": 3
   },
   "file_extension": ".py",
   "mimetype": "text/x-python",
   "name": "python",
   "nbconvert_exporter": "python",
   "pygments_lexer": "ipython3",
   "version": "3.7.3"
  }
 },
 "nbformat": 4,
 "nbformat_minor": 2
}
