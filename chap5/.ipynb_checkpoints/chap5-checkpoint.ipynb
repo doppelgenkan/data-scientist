{
 "cells": [
  {
   "cell_type": "markdown",
   "metadata": {},
   "source": [
    "# Chap. 5"
   ]
  },
  {
   "cell_type": "markdown",
   "metadata": {},
   "source": [
    "## Chap. 5-1"
   ]
  },
  {
   "cell_type": "markdown",
   "metadata": {},
   "source": [
    "### 5-1-2"
   ]
  },
  {
   "cell_type": "code",
   "execution_count": 1,
   "metadata": {},
   "outputs": [
    {
     "data": {
      "text/plain": [
       "'%.3f'"
      ]
     },
     "execution_count": 1,
     "metadata": {},
     "output_type": "execute_result"
    }
   ],
   "source": [
    "import numpy as np\n",
    "import scipy as sp\n",
    "import matplotlib as mpl\n",
    "import matplotlib.pyplot as plt\n",
    "\n",
    "%precision 3"
   ]
  },
  {
   "cell_type": "markdown",
   "metadata": {},
   "source": [
    "> `import numpy.random as random`は，`random`モジュールとのバッティングを避けるため，実行していない。"
   ]
  },
  {
   "cell_type": "markdown",
   "metadata": {},
   "source": [
    "### 5-2-1"
   ]
  },
  {
   "cell_type": "code",
   "execution_count": 2,
   "metadata": {},
   "outputs": [],
   "source": [
    "sample_array = np.arange(10)"
   ]
  },
  {
   "cell_type": "code",
   "execution_count": 3,
   "metadata": {},
   "outputs": [
    {
     "name": "stdout",
     "output_type": "stream",
     "text": [
      "sample_array = [0 1 2 3 4 5 6 7 8 9]\n",
      "sample_array_slice = [0 1 2 3 4]\n"
     ]
    }
   ],
   "source": [
    "print(f'sample_array = {sample_array}')\n",
    "sample_array_slice = sample_array[0:5]\n",
    "print(f'sample_array_slice = {sample_array_slice}')"
   ]
  },
  {
   "cell_type": "code",
   "execution_count": 4,
   "metadata": {},
   "outputs": [
    {
     "name": "stdout",
     "output_type": "stream",
     "text": [
      "sample_array_slice = [10 10 10  3  4]\n",
      "sample_array = [10 10 10  3  4  5  6  7  8  9]\n"
     ]
    }
   ],
   "source": [
    "sample_array_slice[0:3] = 10\n",
    "print(f'sample_array_slice = {sample_array_slice}')\n",
    "print(f'sample_array = {sample_array}')"
   ]
  },
  {
   "cell_type": "markdown",
   "metadata": {},
   "source": [
    "> `sample_array_slice`は`sample_array[0:5]`を(メモリ)参照しているだけなので，`sample_array_slice`の成分を**弄る**と`sample_array`も同様に**弄られる**。**別物の**配列（リストも）を作るには，**np.copy関数(copy関数←リストの場合)**をつかう（5-2-1-1をみよ）。"
   ]
  },
  {
   "cell_type": "markdown",
   "metadata": {},
   "source": [
    "#### 5-2-1-1"
   ]
  },
  {
   "cell_type": "code",
   "execution_count": 5,
   "metadata": {},
   "outputs": [
    {
     "name": "stdout",
     "output_type": "stream",
     "text": [
      "sample_array_copy = [10 10 10  3  4  5  6  7  8  9]\n"
     ]
    }
   ],
   "source": [
    "sample_array_copy = np.copy(sample_array)\n",
    "print(f'sample_array_copy = {sample_array_copy}')"
   ]
  },
  {
   "cell_type": "code",
   "execution_count": 6,
   "metadata": {},
   "outputs": [
    {
     "name": "stdout",
     "output_type": "stream",
     "text": [
      "sample_array_copy = [20 20 20  3  4  5  6  7  8  9]\n",
      "sample_array = [10 10 10  3  4  5  6  7  8  9]\n"
     ]
    }
   ],
   "source": [
    "sample_array_copy[0:3] = 20\n",
    "print(f'sample_array_copy = {sample_array_copy}')\n",
    "print(f'sample_array = {sample_array}')"
   ]
  },
  {
   "cell_type": "markdown",
   "metadata": {},
   "source": [
    "#### 5-2-1-2"
   ]
  },
  {
   "cell_type": "code",
   "execution_count": 13,
   "metadata": {},
   "outputs": [
    {
     "name": "stdout",
     "output_type": "stream",
     "text": [
      "sample_name = ['a' 'b' 'c' 'd' 'a']\n",
      "data = \n",
      "[[ 1.764  0.4    0.979  2.241  1.868]\n",
      " [-0.977  0.95  -0.151 -0.103  0.411]\n",
      " [ 0.144  1.454  0.761  0.122  0.444]\n",
      " [ 0.334  1.494 -0.205  0.313 -0.854]\n",
      " [-2.553  0.654  0.864 -0.742  2.27 ]]\n"
     ]
    }
   ],
   "source": [
    "sample_names = np.array(['a', 'b', 'c', 'd', 'a'])\n",
    "np.random.seed(0)\n",
    "data = np.random.randn(5,5)\n",
    "\n",
    "print(f'sample_name = {sample_names}')\n",
    "print(f'data = \\n{data}')"
   ]
  },
  {
   "cell_type": "code",
   "execution_count": 14,
   "metadata": {},
   "outputs": [
    {
     "name": "stdout",
     "output_type": "stream",
     "text": [
      "sample_names == \"a\" → [ True False False False  True]\n"
     ]
    }
   ],
   "source": [
    "print(f'sample_names == \\\"a\\\" → {sample_names == \"a\"}')"
   ]
  },
  {
   "cell_type": "code",
   "execution_count": 15,
   "metadata": {},
   "outputs": [
    {
     "name": "stdout",
     "output_type": "stream",
     "text": [
      "data[sample_names == \"a\"] → \n",
      "[[ 1.764  0.4    0.979  2.241  1.868]\n",
      " [-2.553  0.654  0.864 -0.742  2.27 ]]\n"
     ]
    }
   ],
   "source": [
    "print(f'data[sample_names == \\\"a\\\"] → \\n{data[sample_names == \"a\"]}')"
   ]
  },
  {
   "cell_type": "markdown",
   "metadata": {},
   "source": [
    "#### 5-2-1-3"
   ]
  },
  {
   "cell_type": "code",
   "execution_count": 12,
   "metadata": {},
   "outputs": [
    {
     "data": {
      "text/plain": [
       "array([  1,   2, 300, 400,   5])"
      ]
     },
     "execution_count": 12,
     "metadata": {},
     "output_type": "execute_result"
    }
   ],
   "source": [
    "cond_data = np.array([True, True, False, False, True])\n",
    "x_array = np.arange(1, 6)\n",
    "y_array = np.arange(100, 501, 100)\n",
    "\n",
    "np.where(cond_data, x_array, y_array)"
   ]
  },
  {
   "cell_type": "markdown",
   "metadata": {},
   "source": [
    "***\n",
    "### Practice 5-1"
   ]
  },
  {
   "cell_type": "code",
   "execution_count": 21,
   "metadata": {},
   "outputs": [
    {
     "name": "stdout",
     "output_type": "stream",
     "text": [
      "['a' 'b' 'c' 'd' 'a']\n",
      "[[ 1.764  0.4    0.979  2.241  1.868]\n",
      " [-0.977  0.95  -0.151 -0.103  0.411]\n",
      " [ 0.144  1.454  0.761  0.122  0.444]\n",
      " [ 0.334  1.494 -0.205  0.313 -0.854]\n",
      " [-2.553  0.654  0.864 -0.742  2.27 ]]\n"
     ]
    }
   ],
   "source": [
    "sample_names2 = np.array([i for i in 'abcda']) \n",
    "np.random.seed(0)\n",
    "data2 = np.random.randn(5, 5)\n",
    "\n",
    "print(sample_names2)\n",
    "print(data2)"
   ]
  },
  {
   "cell_type": "code",
   "execution_count": 23,
   "metadata": {},
   "outputs": [
    {
     "data": {
      "text/plain": [
       "array([[-0.977,  0.95 , -0.151, -0.103,  0.411]])"
      ]
     },
     "execution_count": 23,
     "metadata": {},
     "output_type": "execute_result"
    }
   ],
   "source": [
    "data2[sample_names2 == 'b']"
   ]
  },
  {
   "cell_type": "markdown",
   "metadata": {},
   "source": [
    "***\n",
    "### Practice 5-2"
   ]
  },
  {
   "cell_type": "code",
   "execution_count": 24,
   "metadata": {},
   "outputs": [
    {
     "data": {
      "text/plain": [
       "array([[ 1.764,  0.4  ,  0.979,  2.241,  1.868],\n",
       "       [-0.977,  0.95 , -0.151, -0.103,  0.411],\n",
       "       [ 0.334,  1.494, -0.205,  0.313, -0.854],\n",
       "       [-2.553,  0.654,  0.864, -0.742,  2.27 ]])"
      ]
     },
     "execution_count": 24,
     "metadata": {},
     "output_type": "execute_result"
    }
   ],
   "source": [
    "data2[sample_names2 != 'c']"
   ]
  },
  {
   "cell_type": "markdown",
   "metadata": {},
   "source": [
    "***\n",
    "### Practice 5-3"
   ]
  },
  {
   "cell_type": "code",
   "execution_count": 25,
   "metadata": {},
   "outputs": [
    {
     "data": {
      "text/plain": [
       "array([ 6,  7,  3,  4, 10])"
      ]
     },
     "execution_count": 25,
     "metadata": {},
     "output_type": "execute_result"
    }
   ],
   "source": [
    "x_array1 = np.arange(1, 6)\n",
    "y_array1 = np.arange(6, 11)\n",
    "\n",
    "np.where(np.array([False, False, True, True, False]), x_array1, y_array1) "
   ]
  },
  {
   "cell_type": "markdown",
   "metadata": {},
   "source": [
    "***\n",
    "### 5-2-2"
   ]
  },
  {
   "cell_type": "code",
   "execution_count": null,
   "metadata": {},
   "outputs": [],
   "source": []
  }
 ],
 "metadata": {
  "kernelspec": {
   "display_name": "Python 3",
   "language": "python",
   "name": "python3"
  },
  "language_info": {
   "codemirror_mode": {
    "name": "ipython",
    "version": 3
   },
   "file_extension": ".py",
   "mimetype": "text/x-python",
   "name": "python",
   "nbconvert_exporter": "python",
   "pygments_lexer": "ipython3",
   "version": "3.7.3"
  }
 },
 "nbformat": 4,
 "nbformat_minor": 2
}
